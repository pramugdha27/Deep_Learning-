{
  "nbformat": 4,
  "nbformat_minor": 0,
  "metadata": {
    "colab": {
      "provenance": [],
      "gpuType": "T4"
    },
    "kernelspec": {
      "name": "python3",
      "display_name": "Python 3"
    },
    "language_info": {
      "name": "python"
    },
    "accelerator": "GPU"
  },
  "cells": [
    {
      "cell_type": "code",
      "execution_count": 1,
      "metadata": {
        "id": "PGekJ1l8yEKR"
      },
      "outputs": [],
      "source": [
        "import torch\n",
        "import torch.nn as nn\n",
        "import torch.optim as optimiser\n",
        "from torch.utils.data import DataLoader\n",
        "import torchvision\n",
        "import torchvision.transforms as transforms\n",
        "import numpy as np\n",
        "import torch.nn.functional as Func\n",
        "import pandas as pd\n",
        "import time"
      ]
    },
    {
      "cell_type": "code",
      "source": [
        "torch.cuda.is_available()"
      ],
      "metadata": {
        "id": "fFYHMjLXyMVC",
        "colab": {
          "base_uri": "https://localhost:8080/"
        },
        "outputId": "70b81c7e-9933-4d68-f789-88b30e51d220"
      },
      "execution_count": 2,
      "outputs": [
        {
          "output_type": "execute_result",
          "data": {
            "text/plain": [
              "True"
            ]
          },
          "metadata": {},
          "execution_count": 2
        }
      ]
    },
    {
      "cell_type": "code",
      "source": [
        "# Defining the transformations\n",
        "transform = transforms.Compose([\n",
        "    transforms.RandomHorizontalFlip(),# flipping the image/mirroring it\n",
        "    transforms.RandomCrop(32, padding=4), # cropping randomly\n",
        "    transforms.ToTensor(), # convert image to tensor\n",
        "    transforms.Normalize((0.5, 0.5, 0.5), (0.5, 0.5, 0.5)) # normalises to mean:0 and std:1\n",
        "])\n",
        "\n",
        "\n",
        "# Loading the CIFAR-10 dataset / Getting cifar-10 (test/train) and preprocessing using transform\n",
        "batchsize = 32\n",
        "train_set = torchvision.datasets.CIFAR10(root='./data', train=True, download=True, transform=transform)\n",
        "train_loader = DataLoader(train_set, batch_size=batchsize, shuffle=True, num_workers=2)\n",
        "test_set = torchvision.datasets.CIFAR10(root='./data', train=False, download=True, transform=transform)\n",
        "test_loader = DataLoader(test_set, batch_size=batchsize, shuffle=False, num_workers=2)\n",
        "\n",
        "class MobileNetV2(nn.Module):\n",
        "    def __init__(self):\n",
        "        super(MobileNetV2, self).__init__()\n",
        "        # Define your MobileNetV2 architecture here\n",
        "        self.model = torchvision.models.mobilenet_v2(pretrained=False, num_classes=10)\n",
        "\n",
        "    def forward(self, x):\n",
        "        return self.model(x)\n",
        "\n",
        "mobilenet_v2_model = MobileNetV2()\n",
        "\n",
        "loss_func = nn.CrossEntropyLoss()\n",
        "optimizer = optimiser.Adam(mobilenet_v2_model.parameters(), lr=0.01)\n",
        "\n",
        "def training_model(model, optimizer, epochs= 25):\n",
        "    training_accuracy_history = []\n",
        "    validation_accuracy_history = []\n",
        "    training_loss_history = []\n",
        "    validation_loss_history = []\n",
        "\n",
        "    device_test = torch.device(\"cuda:0\" if torch.cuda.is_available() else \"cpu\")\n",
        "    model.to(device_test)\n",
        "\n",
        "    starting_time = time.time()\n",
        "\n",
        "    for ep in range(epochs):\n",
        "        model.train()\n",
        "        run_loss = 0.0\n",
        "        correct_train = 0\n",
        "        total_train = 0\n",
        "\n",
        "        for data in train_loader:\n",
        "            input_train, label_train = data\n",
        "            input_train, label_train = input_train.to(device_test), label_train.to(device_test)\n",
        "            optimizer.zero_grad()\n",
        "\n",
        "            output_train = model(input_train)\n",
        "            loss_train = loss_func(output_train, label_train)\n",
        "            loss_train.backward()\n",
        "            optimizer.step()\n",
        "\n",
        "            run_loss =  run_loss + loss_train.item()\n",
        "            torch_val, predicted_train = torch.max(output_train.data, 1)\n",
        "            total_train = total_train + label_train.size(0)\n",
        "            correct_train = correct_train + (predicted_train == label_train).sum().item()\n",
        "\n",
        "        training_loss = run_loss / len(train_loader)\n",
        "        training_accuracy = 100 * correct_train / total_train\n",
        "        training_loss_history.append(training_loss)\n",
        "        training_accuracy_history.append(training_accuracy)\n",
        "\n",
        "        # Doing the Validating\n",
        "        model.eval()\n",
        "        vali_correct = 0\n",
        "        vali_total = 0\n",
        "        validation_loss = 0.0\n",
        "\n",
        "        with torch.no_grad():\n",
        "            for data in test_loader:\n",
        "                vali_input, vali_label = data\n",
        "                vali_input, vali_label = vali_input.to(device_test), vali_label.to(device_test)\n",
        "                vali_output = model(vali_input)\n",
        "                vali_loss = loss_func(vali_output, vali_label)\n",
        "                validation_loss = validation_loss + vali_loss.item()\n",
        "                torch_val, predicted_vali = torch.max(vali_output.data, 1)\n",
        "                vali_total = vali_total + vali_label.size(0)\n",
        "                vali_correct = vali_correct +  (predicted_vali == vali_label).sum().item()\n",
        "\n",
        "        validation_loss = validation_loss / len(test_loader)\n",
        "        vali_accuracy = 100 * vali_correct / vali_total\n",
        "        validation_loss_history.append(validation_loss)\n",
        "        validation_accuracy_history.append(vali_accuracy)\n",
        "\n",
        "        print(f'Epoch Count [{ep + 1}/{epochs}], '\n",
        "              f'Training Loss: {training_loss:.4f}, '\n",
        "              f'Training Accuracy: {training_accuracy:.2f}%, '\n",
        "              f'Validation Loss: {validation_loss:.4f}, '\n",
        "              f'Validation Accuracy: {vali_accuracy:.2f}%')\n",
        "\n",
        "    ending_time = time.time()  # Record the end time\n",
        "    total_elapsed_time = ending_time - starting_time  # Calculate elapsed time\n",
        "\n",
        "    print(f'The training time is : {total_elapsed_time:.2f} seconds')  # Print the training time\n",
        "\n",
        "    return training_accuracy_history, training_loss_history, validation_accuracy_history, validation_loss_history\n",
        "\n",
        "# Training the MobileNet V2 model\n",
        "training_accuracy_history, training_loss_history, validation_accuracy_history, validation_loss_history = training_model(mobilenet_v2_model, optimizer)\n"
      ],
      "metadata": {
        "id": "eAGZk3iwyOAE",
        "colab": {
          "base_uri": "https://localhost:8080/"
        },
        "outputId": "763b7fdf-034a-4b60-d25e-4178ab0ea5ea"
      },
      "execution_count": 5,
      "outputs": [
        {
          "output_type": "stream",
          "name": "stdout",
          "text": [
            "Downloading https://www.cs.toronto.edu/~kriz/cifar-10-python.tar.gz to ./data/cifar-10-python.tar.gz\n"
          ]
        },
        {
          "output_type": "stream",
          "name": "stderr",
          "text": [
            "100%|██████████| 170498071/170498071 [00:04<00:00, 42528736.17it/s]\n"
          ]
        },
        {
          "output_type": "stream",
          "name": "stdout",
          "text": [
            "Extracting ./data/cifar-10-python.tar.gz to ./data\n",
            "Files already downloaded and verified\n"
          ]
        },
        {
          "output_type": "stream",
          "name": "stderr",
          "text": [
            "/usr/local/lib/python3.10/dist-packages/torchvision/models/_utils.py:208: UserWarning: The parameter 'pretrained' is deprecated since 0.13 and may be removed in the future, please use 'weights' instead.\n",
            "  warnings.warn(\n",
            "/usr/local/lib/python3.10/dist-packages/torchvision/models/_utils.py:223: UserWarning: Arguments other than a weight enum or `None` for 'weights' are deprecated since 0.13 and may be removed in the future. The current behavior is equivalent to passing `weights=None`.\n",
            "  warnings.warn(msg)\n"
          ]
        },
        {
          "output_type": "stream",
          "name": "stdout",
          "text": [
            "Epoch Count [1/25], Training Loss: 2.0645, Training Accuracy: 22.29%, Validation Loss: 1.7790, Validation Accuracy: 28.48%\n",
            "Epoch Count [2/25], Training Loss: 1.7313, Training Accuracy: 33.58%, Validation Loss: 1.6449, Validation Accuracy: 36.07%\n",
            "Epoch Count [3/25], Training Loss: 1.5811, Training Accuracy: 40.72%, Validation Loss: 1.4862, Validation Accuracy: 43.84%\n",
            "Epoch Count [4/25], Training Loss: 1.4773, Training Accuracy: 45.83%, Validation Loss: 1.3684, Validation Accuracy: 49.55%\n",
            "Epoch Count [5/25], Training Loss: 1.3818, Training Accuracy: 50.64%, Validation Loss: 1.3118, Validation Accuracy: 52.79%\n",
            "Epoch Count [6/25], Training Loss: 1.3076, Training Accuracy: 53.62%, Validation Loss: 1.2114, Validation Accuracy: 57.05%\n",
            "Epoch Count [7/25], Training Loss: 1.2459, Training Accuracy: 56.16%, Validation Loss: 1.1688, Validation Accuracy: 58.29%\n",
            "Epoch Count [8/25], Training Loss: 1.1954, Training Accuracy: 57.91%, Validation Loss: 1.1560, Validation Accuracy: 59.06%\n",
            "Epoch Count [9/25], Training Loss: 1.1456, Training Accuracy: 60.06%, Validation Loss: 1.1245, Validation Accuracy: 60.61%\n",
            "Epoch Count [10/25], Training Loss: 1.0866, Training Accuracy: 61.94%, Validation Loss: 1.0427, Validation Accuracy: 62.28%\n",
            "Epoch Count [11/25], Training Loss: 1.0525, Training Accuracy: 63.32%, Validation Loss: 0.9630, Validation Accuracy: 65.84%\n",
            "Epoch Count [12/25], Training Loss: 1.0151, Training Accuracy: 64.51%, Validation Loss: 1.0016, Validation Accuracy: 64.61%\n",
            "Epoch Count [13/25], Training Loss: 0.9818, Training Accuracy: 66.09%, Validation Loss: 0.9054, Validation Accuracy: 69.12%\n",
            "Epoch Count [14/25], Training Loss: 0.9509, Training Accuracy: 67.13%, Validation Loss: 0.9033, Validation Accuracy: 68.23%\n",
            "Epoch Count [15/25], Training Loss: 0.9273, Training Accuracy: 68.02%, Validation Loss: 0.8661, Validation Accuracy: 69.51%\n",
            "Epoch Count [16/25], Training Loss: 0.9019, Training Accuracy: 69.02%, Validation Loss: 0.8410, Validation Accuracy: 71.37%\n",
            "Epoch Count [17/25], Training Loss: 0.8740, Training Accuracy: 70.08%, Validation Loss: 0.8694, Validation Accuracy: 69.78%\n",
            "Epoch Count [18/25], Training Loss: 0.8554, Training Accuracy: 71.08%, Validation Loss: 0.8020, Validation Accuracy: 72.54%\n",
            "Epoch Count [19/25], Training Loss: 0.8344, Training Accuracy: 71.75%, Validation Loss: 0.8586, Validation Accuracy: 69.95%\n",
            "Epoch Count [20/25], Training Loss: 0.8163, Training Accuracy: 72.33%, Validation Loss: 0.7877, Validation Accuracy: 73.13%\n",
            "Epoch Count [21/25], Training Loss: 0.8039, Training Accuracy: 72.68%, Validation Loss: 0.7590, Validation Accuracy: 73.66%\n",
            "Epoch Count [22/25], Training Loss: 0.7873, Training Accuracy: 73.37%, Validation Loss: 0.7603, Validation Accuracy: 74.83%\n",
            "Epoch Count [23/25], Training Loss: 0.7749, Training Accuracy: 73.77%, Validation Loss: 0.7584, Validation Accuracy: 73.54%\n",
            "Epoch Count [24/25], Training Loss: 0.7661, Training Accuracy: 74.12%, Validation Loss: 0.7225, Validation Accuracy: 75.59%\n",
            "Epoch Count [25/25], Training Loss: 0.7559, Training Accuracy: 74.89%, Validation Loss: 0.7689, Validation Accuracy: 74.12%\n",
            "The training time is : 1508.47 seconds\n"
          ]
        }
      ]
    }
  ]
}