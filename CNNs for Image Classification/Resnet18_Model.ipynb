{
  "nbformat": 4,
  "nbformat_minor": 0,
  "metadata": {
    "colab": {
      "provenance": [],
      "gpuType": "T4"
    },
    "kernelspec": {
      "name": "python3",
      "display_name": "Python 3"
    },
    "language_info": {
      "name": "python"
    },
    "accelerator": "GPU"
  },
  "cells": [
    {
      "cell_type": "code",
      "execution_count": 1,
      "metadata": {
        "id": "AAfZzhJ7x3S2"
      },
      "outputs": [],
      "source": [
        "import torch\n",
        "import torch.nn as nn\n",
        "import torch.optim as optimiser\n",
        "from torch.utils.data import DataLoader\n",
        "import torchvision\n",
        "import torchvision.transforms as transforms\n",
        "import numpy as np\n",
        "import torch.nn.functional as Func\n",
        "import pandas as pd\n",
        "import time"
      ]
    },
    {
      "cell_type": "code",
      "source": [
        "torch.cuda.is_available()"
      ],
      "metadata": {
        "colab": {
          "base_uri": "https://localhost:8080/"
        },
        "id": "3kBCpFXbx82k",
        "outputId": "67678701-b76e-4b96-e494-2f6f23e13af4"
      },
      "execution_count": 2,
      "outputs": [
        {
          "output_type": "execute_result",
          "data": {
            "text/plain": [
              "True"
            ]
          },
          "metadata": {},
          "execution_count": 2
        }
      ]
    },
    {
      "cell_type": "code",
      "source": [
        "# Defining the transformations\n",
        "transform = transforms.Compose([\n",
        "    transforms.RandomHorizontalFlip(),# flipping the image/mirroring it\n",
        "    transforms.RandomCrop(32, padding=4), # cropping randomly\n",
        "    transforms.ToTensor(), # convert image to tensor\n",
        "    transforms.Normalize((0.5, 0.5, 0.5), (0.5, 0.5, 0.5)) # normalises to mean:0 and std:1\n",
        "])\n",
        "\n",
        "\n",
        "# Loading the CIFAR-10 dataset / Getting cifar-10 (test/train) and preprocessing using transform\n",
        "batchsize = 32\n",
        "train_set = torchvision.datasets.CIFAR10(root='./data', train=True, download=True, transform=transform)\n",
        "train_loader = DataLoader(train_set, batch_size=batchsize, shuffle=True, num_workers=2)\n",
        "test_set = torchvision.datasets.CIFAR10(root='./data', train=False, download=True, transform=transform)\n",
        "test_loader = DataLoader(test_set, batch_size=batchsize, shuffle=False, num_workers=2)\n",
        "\n",
        "# Define the ResNet-18 model\n",
        "class ResNet18(nn.Module):\n",
        "    def __init__(self):\n",
        "        super(ResNet18, self).__init__()\n",
        "        self.model = torchvision.models.resnet18(pretrained=False, num_classes=10)\n",
        "\n",
        "    def forward(self, x):\n",
        "        return self.model(x)\n",
        "\n",
        "# Create an instance of the ResNet-18 model\n",
        "resnet18_model = ResNet18()\n",
        "\n",
        "loss_func = nn.CrossEntropyLoss()\n",
        "optimizer = optimiser.Adam(resnet18_model.parameters(), lr=0.01)\n",
        "\n",
        "def training_model(model, optimizer, epochs=25):\n",
        "    training_accuracy_history = []\n",
        "    validation_accuracy_history = []\n",
        "    training_loss_history = []\n",
        "    validation_loss_history = []\n",
        "\n",
        "    device_test = torch.device(\"cuda:0\" if torch.cuda.is_available() else \"cpu\")\n",
        "    model.to(device_test)\n",
        "\n",
        "    starting_time = time.time()\n",
        "\n",
        "    for ep in range(epochs):\n",
        "        model.train()\n",
        "        run_loss = 0.0\n",
        "        correct_train = 0\n",
        "        total_train = 0\n",
        "\n",
        "        for data in train_loader:\n",
        "            input_train, label_train = data\n",
        "            input_train, label_train = input_train.to(device_test), label_train.to(device_test)\n",
        "            optimizer.zero_grad()\n",
        "\n",
        "            output_train = model(input_train)\n",
        "            loss_train = loss_func(output_train, label_train)\n",
        "            loss_train.backward()\n",
        "            optimizer.step()\n",
        "\n",
        "            run_loss =  run_loss + loss_train.item()\n",
        "            torch_val, predicted_train = torch.max(output_train.data, 1)\n",
        "            total_train = total_train + label_train.size(0)\n",
        "            correct_train = correct_train + (predicted_train == label_train).sum().item()\n",
        "\n",
        "        training_loss = run_loss / len(train_loader)\n",
        "        training_accuracy = 100 * correct_train / total_train\n",
        "        training_loss_history.append(training_loss)\n",
        "        training_accuracy_history.append(training_accuracy)\n",
        "\n",
        "        # Doing the Validating\n",
        "        model.eval()\n",
        "        vali_correct = 0\n",
        "        vali_total = 0\n",
        "        validation_loss = 0.0\n",
        "\n",
        "        with torch.no_grad():\n",
        "            for data in test_loader:\n",
        "                vali_input, vali_label = data\n",
        "                vali_input, vali_label = vali_input.to(device_test), vali_label.to(device_test)\n",
        "                vali_output = model(vali_input)\n",
        "                vali_loss = loss_func(vali_output, vali_label)\n",
        "                validation_loss = validation_loss + vali_loss.item()\n",
        "                torch_val, predicted_vali = torch.max(vali_output.data, 1)\n",
        "                vali_total = vali_total + vali_label.size(0)\n",
        "                vali_correct = vali_correct +  (predicted_vali == vali_label).sum().item()\n",
        "\n",
        "        validation_loss = validation_loss / len(test_loader)\n",
        "        vali_accuracy = 100 * vali_correct / vali_total\n",
        "        validation_loss_history.append(validation_loss)\n",
        "        validation_accuracy_history.append(vali_accuracy)\n",
        "\n",
        "        print(f'Epoch Count [{ep + 1}/{epochs}], '\n",
        "              f'Training Loss: {training_loss:.4f}, '\n",
        "              f'Training Accuracy: {training_accuracy:.2f}%, '\n",
        "              f'Validation Loss: {validation_loss:.4f}, '\n",
        "              f'Validation Accuracy: {vali_accuracy:.2f}%')\n",
        "\n",
        "\n",
        "    ending_time = time.time()  # Record the end time\n",
        "    total_elapsed_time = ending_time - starting_time  # Calculate elapsed time\n",
        "\n",
        "    print(f'The training time is : {total_elapsed_time:.2f} seconds')  # Print the training time\n",
        "\n",
        "    return training_accuracy_history, training_loss_history, validation_accuracy_history, validation_loss_history\n",
        "\n",
        "# Training the Resnet18 model\n",
        "training_accuracy_history, training_loss_history, validation_accuracy_history, validation_loss_history = training_model(resnet18_model, optimizer)\n",
        "\n"
      ],
      "metadata": {
        "colab": {
          "base_uri": "https://localhost:8080/"
        },
        "id": "fzinaLFsx--s",
        "outputId": "18b153c3-27b0-4a10-9361-66e673d87a95"
      },
      "execution_count": 3,
      "outputs": [
        {
          "metadata": {
            "tags": null
          },
          "name": "stdout",
          "output_type": "stream",
          "text": [
            "Downloading https://www.cs.toronto.edu/~kriz/cifar-10-python.tar.gz to ./data/cifar-10-python.tar.gz\n"
          ]
        },
        {
          "metadata": {
            "tags": null
          },
          "name": "stderr",
          "output_type": "stream",
          "text": [
            "100%|██████████| 170498071/170498071 [00:04<00:00, 41818483.53it/s]\n"
          ]
        },
        {
          "metadata": {
            "tags": null
          },
          "name": "stdout",
          "output_type": "stream",
          "text": [
            "Extracting ./data/cifar-10-python.tar.gz to ./data\n",
            "Files already downloaded and verified\n"
          ]
        },
        {
          "metadata": {
            "tags": null
          },
          "name": "stderr",
          "output_type": "stream",
          "text": [
            "/usr/local/lib/python3.10/dist-packages/torchvision/models/_utils.py:208: UserWarning: The parameter 'pretrained' is deprecated since 0.13 and may be removed in the future, please use 'weights' instead.\n",
            "  warnings.warn(\n",
            "/usr/local/lib/python3.10/dist-packages/torchvision/models/_utils.py:223: UserWarning: Arguments other than a weight enum or `None` for 'weights' are deprecated since 0.13 and may be removed in the future. The current behavior is equivalent to passing `weights=None`.\n",
            "  warnings.warn(msg)\n"
          ]
        },
        {
          "output_type": "stream",
          "name": "stdout",
          "text": [
            "Epoch Count [1/25], Training Loss: 1.8190, Training Accuracy: 33.86%, Validation Loss: 1.5008, Validation Accuracy: 45.85%\n",
            "Epoch Count [2/25], Training Loss: 1.4206, Training Accuracy: 48.29%, Validation Loss: 1.2710, Validation Accuracy: 53.94%\n",
            "Epoch Count [3/25], Training Loss: 1.1993, Training Accuracy: 57.08%, Validation Loss: 1.0770, Validation Accuracy: 61.43%\n",
            "Epoch Count [4/25], Training Loss: 1.0600, Training Accuracy: 62.68%, Validation Loss: 0.9951, Validation Accuracy: 64.95%\n",
            "Epoch Count [5/25], Training Loss: 0.9675, Training Accuracy: 66.28%, Validation Loss: 0.9092, Validation Accuracy: 68.29%\n",
            "Epoch Count [6/25], Training Loss: 0.8983, Training Accuracy: 68.93%, Validation Loss: 0.8453, Validation Accuracy: 70.73%\n",
            "Epoch Count [7/25], Training Loss: 0.8369, Training Accuracy: 71.35%, Validation Loss: 0.7693, Validation Accuracy: 73.09%\n",
            "Epoch Count [8/25], Training Loss: 0.7930, Training Accuracy: 72.88%, Validation Loss: 0.7840, Validation Accuracy: 73.39%\n",
            "Epoch Count [9/25], Training Loss: 0.7494, Training Accuracy: 74.30%, Validation Loss: 0.7359, Validation Accuracy: 74.87%\n",
            "Epoch Count [10/25], Training Loss: 0.7175, Training Accuracy: 75.55%, Validation Loss: 0.7245, Validation Accuracy: 74.96%\n",
            "Epoch Count [11/25], Training Loss: 0.6836, Training Accuracy: 76.66%, Validation Loss: 0.7076, Validation Accuracy: 75.59%\n",
            "Epoch Count [12/25], Training Loss: 0.6591, Training Accuracy: 77.26%, Validation Loss: 0.6895, Validation Accuracy: 76.18%\n",
            "Epoch Count [13/25], Training Loss: 0.6417, Training Accuracy: 77.98%, Validation Loss: 0.6900, Validation Accuracy: 76.28%\n",
            "Epoch Count [14/25], Training Loss: 0.6096, Training Accuracy: 79.24%, Validation Loss: 0.6591, Validation Accuracy: 77.37%\n",
            "Epoch Count [15/25], Training Loss: 0.5920, Training Accuracy: 79.90%, Validation Loss: 0.6338, Validation Accuracy: 78.36%\n",
            "Epoch Count [16/25], Training Loss: 0.5763, Training Accuracy: 80.28%, Validation Loss: 0.6123, Validation Accuracy: 78.97%\n",
            "Epoch Count [17/25], Training Loss: 0.5587, Training Accuracy: 81.00%, Validation Loss: 0.6235, Validation Accuracy: 78.75%\n",
            "Epoch Count [18/25], Training Loss: 0.5435, Training Accuracy: 81.32%, Validation Loss: 0.6084, Validation Accuracy: 79.67%\n",
            "Epoch Count [19/25], Training Loss: 0.5242, Training Accuracy: 82.22%, Validation Loss: 0.5999, Validation Accuracy: 79.83%\n",
            "Epoch Count [20/25], Training Loss: 0.5156, Training Accuracy: 82.24%, Validation Loss: 0.5598, Validation Accuracy: 81.02%\n",
            "Epoch Count [21/25], Training Loss: 0.5007, Training Accuracy: 82.95%, Validation Loss: 0.5780, Validation Accuracy: 80.91%\n",
            "Epoch Count [22/25], Training Loss: 0.4875, Training Accuracy: 83.19%, Validation Loss: 0.6009, Validation Accuracy: 79.74%\n",
            "Epoch Count [23/25], Training Loss: 0.4801, Training Accuracy: 83.49%, Validation Loss: 0.5618, Validation Accuracy: 81.31%\n",
            "Epoch Count [24/25], Training Loss: 0.4638, Training Accuracy: 84.05%, Validation Loss: 0.5650, Validation Accuracy: 81.45%\n",
            "Epoch Count [25/25], Training Loss: 0.4573, Training Accuracy: 84.34%, Validation Loss: 0.6122, Validation Accuracy: 80.23%\n",
            "The training time is : 1021.51 seconds\n"
          ]
        }
      ]
    },
    {
      "cell_type": "code",
      "source": [],
      "metadata": {
        "id": "IjSfQK7G00J6"
      },
      "execution_count": null,
      "outputs": []
    }
  ]
}