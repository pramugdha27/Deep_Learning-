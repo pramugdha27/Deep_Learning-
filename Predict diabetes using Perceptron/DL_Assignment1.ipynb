{
 "cells": [
  {
   "cell_type": "code",
   "execution_count": null,
   "id": "2b708d8d",
   "metadata": {},
   "outputs": [],
   "source": [
    "import numpy as np\n",
    "import pandas as pd\n",
    "import torch\n",
    "import torch.nn as nn\n",
    "import torch.optim as optim\n",
    "import torch.nn.functional as func\n",
    "import matplotlib.pyplot as plt\n",
    "from sklearn.model_selection import train_test_split\n",
    "from sklearn.preprocessing import StandardScaler\n",
    "from sklearn.preprocessing import MinMaxScaler\n",
    "from sklearn.metrics import accuracy_score as accu_score\n",
    "\n",
    "torch.manual_seed(0)"
   ]
  },
  {
   "cell_type": "code",
   "execution_count": null,
   "id": "4fa75767",
   "metadata": {},
   "outputs": [],
   "source": [
    "data_frame = pd.read_csv(\"diabetes.csv\")\n",
    "data_frame.head()"
   ]
  },
  {
   "cell_type": "code",
   "execution_count": null,
   "id": "6352f0ff",
   "metadata": {},
   "outputs": [],
   "source": [
    "col_x = data_frame.iloc[:,:-1]\n",
    "# Getting just the outcome column \n",
    "col_y = data_frame.iloc[:,-1]   \n",
    "\n",
    "# print(col_x)\n",
    "# print(col_y)\n",
    "\n",
    "col_x = data_frame.drop('Outcome',axis=1).values\n",
    "col_y = data_frame['Outcome'].values\n",
    "\n",
    "# print()\n",
    "# print(col_x)\n",
    "# print(col_y)"
   ]
  },
  {
   "cell_type": "code",
   "execution_count": null,
   "id": "7e5bf4cf",
   "metadata": {},
   "outputs": [],
   "source": [
    "scaler = MinMaxScaler()\n",
    "scaled_data = scaler.fit_transform(col_x)"
   ]
  },
  {
   "cell_type": "code",
   "execution_count": null,
   "id": "58a37cd4",
   "metadata": {},
   "outputs": [],
   "source": [
    "X_Train, X_Vali, Y_Train, Y_Vali = train_test_split(scaled_data,col_y,test_size = 0.2, random_state= 0, shuffle = False)\n",
    "\n",
    "X_Train = torch.FloatTensor(X_Train)\n",
    "X_Vali = torch.FloatTensor(X_Vali)\n",
    "Y_Train = torch.LongTensor(Y_Train)\n",
    "Y_Vali = torch.LongTensor(Y_Vali)"
   ]
  },
  {
   "cell_type": "code",
   "execution_count": null,
   "id": "b131a090",
   "metadata": {},
   "outputs": [],
   "source": [
    "class Perceptron(nn.Module):\n",
    "    def __init__(self,input_feat,output_feat):\n",
    "        super().__init__()\n",
    "        self.L1 = nn.Linear(input_feat, 128,2)  \n",
    "        #self.BN1 = nn.BatchNorm1d(128)\n",
    "        self.L1_a = nn.Linear(128,64)\n",
    "        #self.BN1a = nn.BatchNorm1d(64)\n",
    "        #self.L2 = nn.Linear(128,64)\n",
    "        #self.BN2 = nn.BatchNorm1d(64)\n",
    "        #self.L3 = nn.Linear(64,32)\n",
    "        #self.BN3 = nn.BatchNorm1d(32)\n",
    "        self.L4 = nn.Linear(64,output_feat)\n",
    "        self.sigmoid = nn.Sigmoid()\n",
    "        self.relu = nn.ReLU()\n",
    "        \n",
    "\n",
    "    def forward(self,n_value):\n",
    "        p_out = self.L1(n_value)\n",
    "        p_out = self.relu(p_out)\n",
    "        p_out = self.L1_a(p_out)\n",
    "        #p_out = self.relu(p_out)\n",
    "        #p_out = self.L2(p_out)\n",
    "        #p_out = self.relu(p_out)\n",
    "        #p_out = self.L3(p_out)\n",
    "        #p_out = self.relu(p_out)\n",
    "        p_out = self.L4(p_out)\n",
    "        p_out = self.sigmoid(p_out)\n",
    "        return p_out"
   ]
  },
  {
   "cell_type": "code",
   "execution_count": null,
   "id": "a2e17cf3",
   "metadata": {},
   "outputs": [],
   "source": [
    "store_results = [] \n",
    "learn_rates = [0.001,0.005, 0.01, 0.05, 0.1, 0.5 ]\n",
    "\n",
    "for lr in learn_rates:\n",
    "    perceptron_model = Perceptron(8,2)\n",
    "    #loss_func = nn.CrossEntropyLoss(torch.tensor([float(200/768) , float(568/768)]))\n",
    "    loss_func = nn.CrossEntropyLoss()\n",
    "    optimizer = torch.optim.SGD(perceptron_model.parameters(), lr=lr)\n",
    "    #optimizer = torch.optim.SGD(model.parameters(), lr=lr)\n",
    "    \n",
    "    epochs = 500  #280\n",
    "    final_loss = []\n",
    "    batch_size = 128\n",
    "    \n",
    "\n",
    "    for epoch in range(epochs):\n",
    "    # # Randomly shuffle the training data (if desired) to create mini-batches\n",
    "        permutatn = torch.randperm(X_Train.size()[0])\n",
    "\n",
    "        for x in range(0, X_Train.size()[0], batch_size):\n",
    "            indice = permutatn[x:x+batch_size]\n",
    "            XBatch = X_Train[indice]\n",
    "            YBatch = Y_Train[indice]\n",
    "            \n",
    "            ##forward passing to make predictions\n",
    "            YPred = perceptron_model.forward(XBatch)   \n",
    "            ## computing the loss\n",
    "            loss = loss_func(YPred, YBatch) \n",
    "            final_loss.append(loss)\n",
    "\n",
    "            #clearing gradients\n",
    "            optimizer.zero_grad() \n",
    "            ## getting gradients using backpropagation\n",
    "            loss.backward() \n",
    "            # updating the model params weights\n",
    "            optimizer.step() \n",
    "    \n",
    "        if epoch % 10 == 0:\n",
    "            print(\"The epoch number is: {} and the Training Loss is : {}\".format(epoch, loss.item()))\n",
    "        \n",
    "\n",
    "    # calculating the training accuracy\n",
    "    with torch.no_grad():\n",
    "        YPred_train = perceptron_model(X_Train)\n",
    "        YPred_train_class = YPred_train.argmax(dim=1)\n",
    "        training_accuracy = accu_score(Y_Train, YPred_train_class)\n",
    "\n",
    "    # calculating testing accuracy\n",
    "    with torch.no_grad():\n",
    "        YPred_test = perceptron_model(X_Vali)\n",
    "        YPred_test_class = YPred_test.argmax(dim=1)\n",
    "        testing_accuracy = accu_score(Y_Vali, YPred_test_class)\n",
    "\n",
    "    # Append the results to the list\n",
    "    store_results.append([f'{lr:.3f}', training_accuracy * 100, testing_accuracy * 100])\n",
    "\n",
    "\n"
   ]
  },
  {
   "cell_type": "code",
   "execution_count": null,
   "id": "ecbb2753",
   "metadata": {},
   "outputs": [],
   "source": [
    "dataframe_results = pd.DataFrame(store_results, columns=['Learning Rate', 'Training Accuracy', 'Testing Accuracy'])\n",
    "\n",
    "# displaying results\n",
    "print(dataframe_results)"
   ]
  },
  {
   "cell_type": "code",
   "execution_count": null,
   "id": "52e71754",
   "metadata": {},
   "outputs": [],
   "source": []
  }
 ],
 "metadata": {
  "kernelspec": {
   "display_name": "Python 3 (ipykernel)",
   "language": "python",
   "name": "python3"
  },
  "language_info": {
   "codemirror_mode": {
    "name": "ipython",
    "version": 3
   },
   "file_extension": ".py",
   "mimetype": "text/x-python",
   "name": "python",
   "nbconvert_exporter": "python",
   "pygments_lexer": "ipython3",
   "version": "3.9.13"
  }
 },
 "nbformat": 4,
 "nbformat_minor": 5
}
